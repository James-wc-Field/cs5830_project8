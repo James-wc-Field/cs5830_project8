{
 "cells": [
  {
   "cell_type": "code",
   "execution_count": null,
   "metadata": {},
   "outputs": [],
   "source": [
    "import pandas as pd\n",
    "import numpy as np\n",
    "import matplotlib.pyplot as plt\n",
    "import seaborn as sns\n",
    "\n",
    "from sklearn.preprocessing import StandardScaler,OneHotEncoder\n",
    "from sklearn.model_selection import train_test_split\n",
    "from sklearn.neural_network import MLPClassifier\n",
    "from sklearn.metrics import confusion_matrix, accuracy_score,classification_report\n"
   ]
  },
  {
   "cell_type": "code",
   "execution_count": null,
   "metadata": {},
   "outputs": [],
   "source": [
    "df = pd.read_csv(\"Placement_Data_Full_Class.csv\")\n",
    "\n",
    "#dropping the sl_no column as it is not useful\n",
    "df = df.drop(columns=['sl_no'],axis=1)\n",
    "\n",
    "#mapping the target column\n",
    "status_map = {'Not Placed': 0, 'Placed': 1}\n",
    "df['status'] = df['status'].map(status_map)"
   ]
  },
  {
   "cell_type": "markdown",
   "metadata": {},
   "source": [
    "## EDA"
   ]
  },
  {
   "cell_type": "code",
   "execution_count": null,
   "metadata": {},
   "outputs": [],
   "source": [
    "df.columns  "
   ]
  },
  {
   "cell_type": "code",
   "execution_count": null,
   "metadata": {},
   "outputs": [],
   "source": [
    "categorical_columns = ['gender','ssc_b','hsc_b','hsc_s','degree_t','workex','specialisation','status']\n",
    "numerical_columns = ['ssc_p', 'hsc_p', 'degree_p', 'etest_p', 'mba_p', 'salary']"
   ]
  },
  {
   "cell_type": "code",
   "execution_count": null,
   "metadata": {},
   "outputs": [],
   "source": [
    "plt.figure(figsize=(25,15))\n",
    "plt.suptitle(\"Distributions for Numerical Features\",fontsize=50)\n",
    "for i,column in enumerate(numerical_columns):\n",
    "    plt.subplot(2,3,i+1)\n",
    "    sns.histplot(df[column],kde=True,color='green')\n",
    "    plt.title('{} distribution'.format(column))\n",
    "plt.show()"
   ]
  },
  {
   "cell_type": "code",
   "execution_count": null,
   "metadata": {},
   "outputs": [],
   "source": [
    "plt.figure(figsize=(25,15))\n",
    "plt.suptitle(\"Distributions for Categorical Features\",fontsize=50)\n",
    "for i,column in enumerate(categorical_columns):\n",
    "    plt.subplot(2,4,i+1)\n",
    "    counts = df[column].value_counts()\n",
    "    plt.pie(counts,labels=counts.index,autopct='%1.1f%%', startangle=90)\n",
    "    plt.title('{} distribution'.format(column))\n",
    "    \n",
    "plt.show()\n",
    "    "
   ]
  },
  {
   "cell_type": "code",
   "execution_count": null,
   "metadata": {},
   "outputs": [],
   "source": [
    "#Correlation \n",
    "df_for_corr = df[['ssc_p', 'hsc_p', 'degree_p', 'etest_p', 'mba_p', 'salary','status']]\n",
    "plt.figure(figsize=(12,8)) \n",
    "sns.heatmap(df_for_corr.corr(), annot=True, cmap='coolwarm', linewidths = 2)\n",
    "plt.show()"
   ]
  },
  {
   "cell_type": "markdown",
   "metadata": {},
   "source": [
    "## Interesting finding : The correlation of salary and placement status is 0, upon looking at value counts of placement status and values where salaries were null, it was found that wherever the salary was null, placement status was 0, meaning no salary was given to the candidate by corporate which makes sense as the column description says \"Salary offered by corporate to candidates\". Therefore, if we drop the null values, we will get 100% accuracy because we will only have one class. Which is why, we will impute null salaries with a value of 0."
   ]
  },
  {
   "cell_type": "code",
   "execution_count": null,
   "metadata": {},
   "outputs": [],
   "source": [
    "df[df['salary'].isnull()]"
   ]
  },
  {
   "cell_type": "code",
   "execution_count": null,
   "metadata": {},
   "outputs": [],
   "source": [
    "df['status'].value_counts()"
   ]
  },
  {
   "cell_type": "code",
   "execution_count": null,
   "metadata": {},
   "outputs": [],
   "source": [
    "#filling null values for salary with 0\n",
    "df['salary'] = df['salary'].fillna(0)"
   ]
  },
  {
   "cell_type": "markdown",
   "metadata": {},
   "source": [
    "## Data Encoding Categorical Columns"
   ]
  },
  {
   "cell_type": "code",
   "execution_count": null,
   "metadata": {},
   "outputs": [],
   "source": [
    "# columns to binary (0/1) encode => gender,ssc_b,hsc_b,workex,specialisation\n",
    "# columns to one hot encode => hsc_s,degree_t"
   ]
  },
  {
   "cell_type": "code",
   "execution_count": null,
   "metadata": {},
   "outputs": [],
   "source": [
    "map_gender = {'M': 0, 'F': 1}\n",
    "map_ssc_b = {'Others': 0, 'Central': 1}\n",
    "map_hsc_b = {'Others': 0, 'Central': 1}\n",
    "map_workex = {'No': 0, 'Yes': 1}\n",
    "map_specialisation = {'Mkt&HR': 0, 'Mkt&Fin': 1}\n",
    "\n",
    "df['gender'] = df['gender'].map(map_gender)\n",
    "df['ssc_b'] = df['ssc_b'].map(map_ssc_b)\n",
    "df['hsc_b'] = df['hsc_b'].map(map_hsc_b)\n",
    "df['workex'] = df['workex'].map(map_workex)\n",
    "df['specialisation'] = df['specialisation'].map(map_specialisation)"
   ]
  },
  {
   "cell_type": "code",
   "execution_count": null,
   "metadata": {},
   "outputs": [],
   "source": [
    "#one hot encoding\n",
    "\n",
    "one_hot_cols = ['hsc_s','degree_t']\n",
    "for col in one_hot_cols:\n",
    "    dummy_column_df = pd.get_dummies(df[col],prefix='one_hot_')*1\n",
    "    df = df.drop(col,axis=1)\n",
    "    df = pd.concat([df,dummy_column_df],axis=1)\n"
   ]
  },
  {
   "cell_type": "markdown",
   "metadata": {},
   "source": [
    "## Train Test Split and Scaling the data"
   ]
  },
  {
   "cell_type": "code",
   "execution_count": null,
   "metadata": {},
   "outputs": [],
   "source": [
    "X = df.drop('status',axis=1)\n",
    "y = df['status']\n",
    "\n",
    "X_train, X_test, y_train, y_test = train_test_split(X, y,test_size=0.2,random_state=101)"
   ]
  },
  {
   "cell_type": "code",
   "execution_count": null,
   "metadata": {},
   "outputs": [],
   "source": [
    "scaler = StandardScaler()"
   ]
  },
  {
   "cell_type": "code",
   "execution_count": null,
   "metadata": {},
   "outputs": [],
   "source": [
    "scaler.fit(X_train)\n",
    "\n",
    "X_train = scaler.transform(X_train)\n",
    "X_test = scaler.transform(X_test)"
   ]
  },
  {
   "cell_type": "code",
   "execution_count": null,
   "metadata": {},
   "outputs": [],
   "source": [
    "X"
   ]
  },
  {
   "cell_type": "markdown",
   "metadata": {},
   "source": [
    "## Training different neural network architectures"
   ]
  },
  {
   "cell_type": "code",
   "execution_count": null,
   "metadata": {},
   "outputs": [],
   "source": [
    "model_architecture_options = {\n",
    "    'model_1' : MLPClassifier(hidden_layer_sizes=(17,17,17,17),max_iter=200),\n",
    "    'model_2' : MLPClassifier(hidden_layer_sizes=(5,5,23,25),max_iter=200),\n",
    "    'model_3' : MLPClassifier(hidden_layer_sizes=(17,17,8,8,17,17),max_iter=200),\n",
    "    'model_4' : MLPClassifier(hidden_layer_sizes=(8,8,17,17,8),max_iter=200)\n",
    "}"
   ]
  },
  {
   "cell_type": "code",
   "execution_count": null,
   "metadata": {},
   "outputs": [],
   "source": [
    "for model_type in model_architecture_options:\n",
    "\n",
    "    model = model_architecture_options[model_type]\n",
    "    model.fit(X_train,y_train)\n",
    "\n",
    "    preds = model.predict(X_test)\n",
    "    \n",
    "\n",
    "\n",
    "    print(f'Confusion Matrix: \\n{confusion_matrix(preds, y_test)}\\n')\n",
    "    print(f'Classification Report: \\n{classification_report(preds, y_test)}\\n')\n",
    "    print(f'Accuracy Score: \\n{accuracy_score(preds, y_test)}\\n')\n",
    "\n",
    "    #model_metrics[str(model)] = {confusion_matrix : confusion_matrix(preds, y_test),classification_report:classification_report(preds, y_test),accuracy_score:accuracy_score(preds, y_test)}\n",
    "    print('***********************************************')"
   ]
  },
  {
   "cell_type": "markdown",
   "metadata": {},
   "source": [
    "## Training Different Descition Tree's"
   ]
  },
  {
   "cell_type": "code",
   "execution_count": null,
   "metadata": {},
   "outputs": [],
   "source": [
    "from sklearn.tree import DecisionTreeClassifier\n",
    "from sklearn import tree\n",
    "from graphviz import Source\n",
    "from IPython.display import SVG"
   ]
  },
  {
   "cell_type": "markdown",
   "metadata": {},
   "source": [
    "### With Salary"
   ]
  },
  {
   "cell_type": "code",
   "execution_count": null,
   "metadata": {},
   "outputs": [],
   "source": [
    "feature_cols = ['gender', 'ssc_p', 'ssc_b', 'degree_p', 'salary', 'mba_p']\n",
    "X = df[feature_cols]\n",
    "\n",
    "treeclf = DecisionTreeClassifier(max_depth=5)\n",
    "treeclf.fit(X, y)\n",
    "graph = Source(tree.export_graphviz(treeclf, out_file=None,\n",
    "                                    feature_names=feature_cols,\n",
    "                                    class_names=['0', '1'], filled = True))\n",
    "svg = SVG(graph.pipe(format='svg'))\n",
    "display(svg)\n",
    "\n",
    "pd.DataFrame({'feature':feature_cols, 'importance':treeclf.feature_importances_})"
   ]
  },
  {
   "cell_type": "markdown",
   "metadata": {},
   "source": [
    "### 3-5 with a few"
   ]
  },
  {
   "cell_type": "code",
   "execution_count": null,
   "metadata": {},
   "outputs": [],
   "source": [
    "feature_cols = ['gender', 'ssc_p', 'ssc_b', 'degree_p', 'mba_p']\n",
    "X = df[feature_cols]\n",
    "\n",
    "treeclf = DecisionTreeClassifier(max_depth=3)\n",
    "treeclf.fit(X, y)\n",
    "graph = Source(tree.export_graphviz(treeclf, out_file=None,\n",
    "                                    feature_names=feature_cols,\n",
    "                                    class_names=['0', '1'], filled = True))\n",
    "svg = SVG(graph.pipe(format='svg'))\n",
    "display(svg)\n",
    "\n",
    "pd.DataFrame({'feature':feature_cols, 'importance':treeclf.feature_importances_})"
   ]
  },
  {
   "cell_type": "code",
   "execution_count": null,
   "metadata": {},
   "outputs": [],
   "source": [
    "feature_cols = ['gender', 'ssc_p', 'ssc_b', 'degree_p', 'mba_p']\n",
    "X = df[feature_cols]\n",
    "\n",
    "treeclf = DecisionTreeClassifier(max_depth=4)\n",
    "treeclf.fit(X, y)\n",
    "graph = Source(tree.export_graphviz(treeclf, out_file=None,\n",
    "                                    feature_names=feature_cols,\n",
    "                                    class_names=['0', '1'], filled = True))\n",
    "svg = SVG(graph.pipe(format='svg'))\n",
    "display(svg)\n",
    "\n",
    "pd.DataFrame({'feature':feature_cols, 'importance':treeclf.feature_importances_})"
   ]
  },
  {
   "cell_type": "code",
   "execution_count": null,
   "metadata": {},
   "outputs": [],
   "source": [
    "feature_cols = ['gender', 'ssc_p', 'ssc_b', 'degree_p', 'mba_p']\n",
    "X = df[feature_cols]\n",
    "\n",
    "treeclf = DecisionTreeClassifier(max_depth=5)\n",
    "treeclf.fit(X, y)\n",
    "graph = Source(tree.export_graphviz(treeclf, out_file=None,\n",
    "                                    feature_names=feature_cols,\n",
    "                                    class_names=['0', '1'], filled = True))\n",
    "svg = SVG(graph.pipe(format='svg'))\n",
    "display(svg)\n",
    "\n",
    "pd.DataFrame({'feature':feature_cols, 'importance':treeclf.feature_importances_})"
   ]
  },
  {
   "cell_type": "markdown",
   "metadata": {},
   "source": [
    "### One Hot Encoded"
   ]
  },
  {
   "cell_type": "code",
   "execution_count": null,
   "metadata": {},
   "outputs": [],
   "source": [
    "feature_cols = ['one_hot__Arts', 'one_hot__Commerce', 'one_hot__Science', 'one_hot__Comm&Mgmt', 'one_hot__Others', 'one_hot__Sci&Tech']\n",
    "X = df[feature_cols]\n",
    "\n",
    "treeclf = DecisionTreeClassifier(max_depth=3)\n",
    "treeclf.fit(X, y)\n",
    "graph = Source(tree.export_graphviz(treeclf, out_file=None,\n",
    "                                    feature_names=feature_cols,\n",
    "                                    class_names=['0', '1'], filled = True))\n",
    "svg = SVG(graph.pipe(format='svg'))\n",
    "display(svg)\n",
    "\n",
    "pd.DataFrame({'feature':feature_cols, 'importance':treeclf.feature_importances_})"
   ]
  },
  {
   "cell_type": "code",
   "execution_count": null,
   "metadata": {},
   "outputs": [],
   "source": [
    "feature_cols = ['one_hot__Arts', 'one_hot__Commerce', 'one_hot__Science', 'one_hot__Comm&Mgmt', 'one_hot__Others', 'one_hot__Sci&Tech']\n",
    "X = df[feature_cols]\n",
    "\n",
    "treeclf = DecisionTreeClassifier(max_depth=4)\n",
    "treeclf.fit(X, y)\n",
    "graph = Source(tree.export_graphviz(treeclf, out_file=None,\n",
    "                                    feature_names=feature_cols,\n",
    "                                    class_names=['0', '1'], filled = True))\n",
    "svg = SVG(graph.pipe(format='svg'))\n",
    "display(svg)\n",
    "\n",
    "pd.DataFrame({'feature':feature_cols, 'importance':treeclf.feature_importances_})"
   ]
  },
  {
   "cell_type": "code",
   "execution_count": null,
   "metadata": {},
   "outputs": [],
   "source": [
    "feature_cols = ['one_hot__Arts', 'one_hot__Commerce', 'one_hot__Science', 'one_hot__Comm&Mgmt', 'one_hot__Others', 'one_hot__Sci&Tech']\n",
    "X = df[feature_cols]\n",
    "\n",
    "treeclf = DecisionTreeClassifier(max_depth=5)\n",
    "treeclf.fit(X, y)\n",
    "graph = Source(tree.export_graphviz(treeclf, out_file=None,\n",
    "                                    feature_names=feature_cols,\n",
    "                                    class_names=['0', '1'], filled = True))\n",
    "svg = SVG(graph.pipe(format='svg'))\n",
    "display(svg)\n",
    "\n",
    "pd.DataFrame({'feature':feature_cols, 'importance':treeclf.feature_importances_})"
   ]
  },
  {
   "cell_type": "markdown",
   "metadata": {},
   "source": [
    "### Best 2 From Each Previouse"
   ]
  },
  {
   "cell_type": "code",
   "execution_count": null,
   "metadata": {},
   "outputs": [],
   "source": [
    "feature_cols = ['one_hot__Commerce', 'one_hot__Others', 'ssc_p', 'mba_p']\n",
    "X = df[feature_cols]\n",
    "\n",
    "treeclf = DecisionTreeClassifier(max_depth=5)\n",
    "treeclf.fit(X, y)\n",
    "graph = Source(tree.export_graphviz(treeclf, out_file=None,\n",
    "                                    feature_names=feature_cols,\n",
    "                                    class_names=['0', '1'], filled = True))\n",
    "svg = SVG(graph.pipe(format='svg'))\n",
    "display(svg)\n",
    "\n",
    "pd.DataFrame({'feature':feature_cols, 'importance':treeclf.feature_importances_})"
   ]
  },
  {
   "cell_type": "markdown",
   "metadata": {},
   "source": [
    "### All Features"
   ]
  },
  {
   "cell_type": "code",
   "execution_count": null,
   "metadata": {},
   "outputs": [],
   "source": [
    "feature_cols = ['gender', 'ssc_p', 'ssc_b', 'hsc_p', 'hsc_b', 'degree_p', 'workex', 'etest_p', 'specialisation', 'mba_p']\n",
    "X = df[feature_cols]\n",
    "\n",
    "treeclf = DecisionTreeClassifier(max_depth=5)\n",
    "treeclf.fit(X, y)\n",
    "graph = Source(tree.export_graphviz(treeclf, out_file=None,\n",
    "                                    feature_names=feature_cols,\n",
    "                                    class_names=['0', '1'], filled = True))\n",
    "svg = SVG(graph.pipe(format='svg'))\n",
    "display(svg)\n",
    "\n",
    "pd.DataFrame({'feature':feature_cols, 'importance':treeclf.feature_importances_})"
   ]
  },
  {
   "cell_type": "code",
   "execution_count": null,
   "metadata": {},
   "outputs": [],
   "source": [
    "feature_cols = ['gender', 'ssc_p', 'ssc_b', 'hsc_p', 'hsc_b', 'degree_p', 'workex', 'etest_p', 'specialisation', 'mba_p']\n",
    "X = df[feature_cols]\n",
    "\n",
    "treeclf = DecisionTreeClassifier(max_depth=10)\n",
    "treeclf.fit(X, y)\n",
    "graph = Source(tree.export_graphviz(treeclf, out_file=None,\n",
    "                                    feature_names=feature_cols,\n",
    "                                    class_names=['0', '1'], filled = True))\n",
    "svg = SVG(graph.pipe(format='svg'))\n",
    "display(svg)\n",
    "\n",
    "pd.DataFrame({'feature':feature_cols, 'importance':treeclf.feature_importances_})"
   ]
  },
  {
   "cell_type": "markdown",
   "metadata": {},
   "source": [
    "### Best 4"
   ]
  },
  {
   "cell_type": "code",
   "execution_count": null,
   "metadata": {},
   "outputs": [],
   "source": [
    "feature_cols = ['ssc_p', 'hsc_p', 'degree_p', 'mba_p']\n",
    "X = df[feature_cols]\n",
    "\n",
    "treeclf = DecisionTreeClassifier(max_depth=10)\n",
    "treeclf.fit(X, y)\n",
    "graph = Source(tree.export_graphviz(treeclf, out_file=None,\n",
    "                                    feature_names=feature_cols,\n",
    "                                    class_names=['0', '1'], filled = True))\n",
    "svg = SVG(graph.pipe(format='svg'))\n",
    "display(svg)\n",
    "\n",
    "pd.DataFrame({'feature':feature_cols, 'importance':treeclf.feature_importances_})"
   ]
  },
  {
   "cell_type": "code",
   "execution_count": null,
   "metadata": {},
   "outputs": [],
   "source": [
    "feature_cols = ['ssc_p', 'hsc_p', 'degree_p', 'mba_p']\n",
    "X = df[feature_cols]\n",
    "\n",
    "treeclf = DecisionTreeClassifier(max_depth=5)\n",
    "treeclf.fit(X, y)\n",
    "graph = Source(tree.export_graphviz(treeclf, out_file=None,\n",
    "                                    feature_names=feature_cols,\n",
    "                                    class_names=['0', '1'], filled = True))\n",
    "svg = SVG(graph.pipe(format='svg'))\n",
    "display(svg)\n",
    "\n",
    "pd.DataFrame({'feature':feature_cols, 'importance':treeclf.feature_importances_})"
   ]
  },
  {
   "cell_type": "code",
   "execution_count": null,
   "metadata": {},
   "outputs": [],
   "source": [
    "feature_cols = ['ssc_p', 'hsc_p', 'degree_p', 'mba_p']\n",
    "X = df[feature_cols]\n",
    "\n",
    "treeclf = DecisionTreeClassifier(max_depth=3)\n",
    "treeclf.fit(X, y)\n",
    "graph = Source(tree.export_graphviz(treeclf, out_file=None,\n",
    "                                    feature_names=feature_cols,\n",
    "                                    class_names=['0', '1'], filled = True))\n",
    "svg = SVG(graph.pipe(format='svg'))\n",
    "display(svg)\n",
    "\n",
    "pd.DataFrame({'feature':feature_cols, 'importance':treeclf.feature_importances_})"
   ]
  },
  {
   "cell_type": "code",
   "execution_count": null,
   "metadata": {},
   "outputs": [],
   "source": []
  }
 ],
 "metadata": {
  "kernelspec": {
   "display_name": "Python 3 (ipykernel)",
   "language": "python",
   "name": "python3"
  },
  "language_info": {
   "codemirror_mode": {
    "name": "ipython",
    "version": 3
   },
   "file_extension": ".py",
   "mimetype": "text/x-python",
   "name": "python",
   "nbconvert_exporter": "python",
   "pygments_lexer": "ipython3",
   "version": "3.11.7"
  }
 },
 "nbformat": 4,
 "nbformat_minor": 4
}
